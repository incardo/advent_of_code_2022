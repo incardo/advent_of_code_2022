{
 "cells": [
  {
   "cell_type": "code",
   "execution_count": 24,
   "metadata": {},
   "outputs": [],
   "source": [
    "import pandas as pd\n",
    "import numpy as np\n",
    "pd.set_option('display.max_columns', None)\n",
    "pd.set_option('display.max_rows', None)\n",
    "pd.set_option('display.expand_frame_repr', True)"
   ]
  },
  {
   "cell_type": "code",
   "execution_count": 25,
   "metadata": {},
   "outputs": [],
   "source": [
    "monkeys= open('day11_input.txt').read().splitlines()"
   ]
  },
  {
   "cell_type": "code",
   "execution_count": 26,
   "metadata": {},
   "outputs": [
    {
     "data": {
      "text/plain": [
       "['Monkey 0:',\n",
       " '  Starting items: 98, 97, 98, 55, 56, 72',\n",
       " '  Operation: new = old * 13',\n",
       " '  Test: divisible by 11',\n",
       " '    If true: throw to monkey 4',\n",
       " '    If false: throw to monkey 7',\n",
       " '',\n",
       " 'Monkey 1:',\n",
       " '  Starting items: 73, 99, 55, 54, 88, 50, 55',\n",
       " '  Operation: new = old + 4',\n",
       " '  Test: divisible by 17',\n",
       " '    If true: throw to monkey 2',\n",
       " '    If false: throw to monkey 6',\n",
       " '',\n",
       " 'Monkey 2:',\n",
       " '  Starting items: 67, 98',\n",
       " '  Operation: new = old * 11',\n",
       " '  Test: divisible by 5',\n",
       " '    If true: throw to monkey 6',\n",
       " '    If false: throw to monkey 5',\n",
       " '',\n",
       " 'Monkey 3:',\n",
       " '  Starting items: 82, 91, 92, 53, 99',\n",
       " '  Operation: new = old + 8',\n",
       " '  Test: divisible by 13',\n",
       " '    If true: throw to monkey 1',\n",
       " '    If false: throw to monkey 2',\n",
       " '',\n",
       " 'Monkey 4:',\n",
       " '  Starting items: 52, 62, 94, 96, 52, 87, 53, 60',\n",
       " '  Operation: new = old * old',\n",
       " '  Test: divisible by 19',\n",
       " '    If true: throw to monkey 3',\n",
       " '    If false: throw to monkey 1',\n",
       " '',\n",
       " 'Monkey 5:',\n",
       " '  Starting items: 94, 80, 84, 79',\n",
       " '  Operation: new = old + 5',\n",
       " '  Test: divisible by 2',\n",
       " '    If true: throw to monkey 7',\n",
       " '    If false: throw to monkey 0',\n",
       " '',\n",
       " 'Monkey 6:',\n",
       " '  Starting items: 89',\n",
       " '  Operation: new = old + 1',\n",
       " '  Test: divisible by 3',\n",
       " '    If true: throw to monkey 0',\n",
       " '    If false: throw to monkey 5',\n",
       " '',\n",
       " 'Monkey 7:',\n",
       " '  Starting items: 70, 59, 63',\n",
       " '  Operation: new = old + 3',\n",
       " '  Test: divisible by 7',\n",
       " '    If true: throw to monkey 4',\n",
       " '    If false: throw to monkey 3']"
      ]
     },
     "execution_count": 26,
     "metadata": {},
     "output_type": "execute_result"
    }
   ],
   "source": [
    "monkeys"
   ]
  },
  {
   "cell_type": "markdown",
   "metadata": {},
   "source": [
    "# Part 1 & 2"
   ]
  },
  {
   "cell_type": "code",
   "execution_count": 27,
   "metadata": {},
   "outputs": [],
   "source": [
    "import operator\n",
    "\n",
    "def run_formula(old, formula):\n",
    "    elements = formula.split()\n",
    "    oper = elements[3]\n",
    "    value = old if elements[4]==\"old\" else int(elements[4])    \n",
    "    ops = {\n",
    "        '+' : operator.add,\n",
    "        '-' : operator.sub,\n",
    "        '*' : operator.mul,\n",
    "        '/' : operator.truediv,  # use operator.div for Python 2\n",
    "        '%' : operator.mod,\n",
    "        '^' : operator.xor,\n",
    "    }\n",
    "    result = np.int64(ops[oper](old, value))\n",
    "    return result"
   ]
  },
  {
   "cell_type": "code",
   "execution_count": 28,
   "metadata": {
    "tags": []
   },
   "outputs": [],
   "source": [
    "def create_monkey_dict():\n",
    "    monkey_dict = {}\n",
    "\n",
    "    for line in monkeys:\n",
    "        if line[0:6] ==\"Monkey\":\n",
    "            current_monkey = int(line[7])\n",
    "        if line[0:6] =='  Star':\n",
    "            current_items = [int(x) for x in line[18:].split(sep=\", \")]\n",
    "        if line[0:6] =='  Oper':\n",
    "            current_formula = line[13:]\n",
    "        if line[0:6] =='  Test':\n",
    "            current_test = int(line[21:])\n",
    "        if line[0:10] == '    If tru':\n",
    "            monkey_true = int(line[29:])\n",
    "        if line[0:10] == '    If fal':\n",
    "            monkey_false = int(line[30:])\n",
    "\n",
    "        try:\n",
    "            monkey_dict[current_monkey]={\"items\":current_items, \n",
    "                                         \"formula\":current_formula, \n",
    "                                         \"test\":current_test,\n",
    "                                         \"monkey_true\":monkey_true,\n",
    "                                         \"monkey_false\":monkey_false}\n",
    "        except:\n",
    "            continue\n",
    "    return monkey_dict"
   ]
  },
  {
   "cell_type": "code",
   "execution_count": 29,
   "metadata": {},
   "outputs": [],
   "source": [
    "def run_one_round(monkey_dict, monk_counter, mcd, part2):\n",
    "    for monk, char in monkey_dict.items():\n",
    "        monkey = monkey_dict[monk]\n",
    "        for item in monkey[\"items\"]:\n",
    "            monk_counter[monk]+=1\n",
    "            #print(\"monkey\", monk, \"item\", item, \"overall items\", monkey[\"items\"])\n",
    "            #new worry level\n",
    "            new = run_formula(item, monkey[\"formula\"])\n",
    "            #print(\"--new worry\", new)\n",
    "            #monkey gets bored\n",
    "            new = np.floor(new/3) if part2 == False else new%mcd\n",
    "            #run test\n",
    "            #print(\"--new\", new, \"test\", monkey[\"test\"])\n",
    "            if new % monkey[\"test\"] == 0:\n",
    "                #print(\"--give to monkey\", monkey[\"monkey_true\"])\n",
    "                monkey_dict[monk][\"items\"] = [x for x in monkey_dict[monk][\"items\"] if x != item]\n",
    "                monkey_dict[monkey[\"monkey_true\"]][\"items\"].append(new)\n",
    "                #print(\"--current monkey items\", monk, monkey_dict[monk][\"items\"])\n",
    "                #print(\"--monkey true items\", monkey[\"monkey_true\"], monkey_dict[monkey[\"monkey_true\"]][\"items\"])\n",
    "                \n",
    "            else:\n",
    "                #print(\"--give to monkey\", monkey[\"monkey_false\"])\n",
    "                monkey_dict[monk][\"items\"] = [x for x in monkey_dict[monk][\"items\"] if x != item]\n",
    "                monkey_dict[monkey[\"monkey_false\"]][\"items\"].append(new)   \n",
    "                #print(\"--current monkey items\", monk, monkey_dict[monk][\"items\"])\n",
    "                #print(\"--monkey false items\", monkey[\"monkey_false\"], monkey_dict[monkey[\"monkey_false\"]][\"items\"])\n",
    "\n",
    "    #print([monkey_dict[monk][\"items\"] for monk, char in monkey_dict.items()])\n",
    "    return monk_counter"
   ]
  },
  {
   "cell_type": "code",
   "execution_count": 30,
   "metadata": {},
   "outputs": [
    {
     "name": "stdout",
     "output_type": "stream",
     "text": [
      "{0: 71076, 1: 35485, 2: 88637, 3: 106189, 4: 17918, 5: 109795, 6: 56795, 7: 120569}\n",
      "Final score 13237873355\n"
     ]
    }
   ],
   "source": [
    "def run_n_rounds(n):\n",
    "    monkey_dict=create_monkey_dict()\n",
    "    mcd = np.prod([monkey_dict[monk][\"test\"] for monk, char in monkey_dict.items()])\n",
    "    monk_counter={monk:0 for monk, char in monkey_dict.items()}\n",
    "    for r in range(0, n):\n",
    "        #print(\"--- Round\", r+1)\n",
    "        monk_counter = run_one_round(monkey_dict, monk_counter, mcd, True)\n",
    "\n",
    "    print(monk_counter)\n",
    "    return monk_counter\n",
    "\n",
    "monk_counter = run_n_rounds(10000)\n",
    "\n",
    "top2 = sorted(monk_counter.values())[-2:]\n",
    "print(\"Final score\", top2[0]*top2[1])"
   ]
  }
 ],
 "metadata": {
  "kernelspec": {
   "display_name": "Python 3 (ipykernel)",
   "language": "python",
   "name": "python3"
  },
  "language_info": {
   "codemirror_mode": {
    "name": "ipython",
    "version": 3
   },
   "file_extension": ".py",
   "mimetype": "text/x-python",
   "name": "python",
   "nbconvert_exporter": "python",
   "pygments_lexer": "ipython3",
   "version": "3.9.12"
  }
 },
 "nbformat": 4,
 "nbformat_minor": 4
}
