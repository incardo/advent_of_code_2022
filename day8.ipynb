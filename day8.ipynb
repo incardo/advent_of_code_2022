{
 "cells": [
  {
   "cell_type": "code",
   "execution_count": 1,
   "metadata": {},
   "outputs": [],
   "source": [
    "import pandas as pd\n",
    "import numpy as np\n",
    "pd.set_option('display.max_columns', None)\n",
    "pd.set_option('display.max_rows', None)\n",
    "pd.set_option('display.expand_frame_repr', True)"
   ]
  },
  {
   "cell_type": "code",
   "execution_count": 59,
   "metadata": {},
   "outputs": [
    {
     "name": "stdout",
     "output_type": "stream",
     "text": [
      "[[0 0 0 ... 2 1 2]\n",
      " [0 2 0 ... 2 1 0]\n",
      " [0 1 2 ... 1 2 2]\n",
      " ...\n",
      " [2 2 1 ... 1 2 1]\n",
      " [2 1 1 ... 0 2 2]\n",
      " [2 0 2 ... 2 2 1]]\n"
     ]
    }
   ],
   "source": [
    "data = np.genfromtxt('day8_input.txt', delimiter=1, dtype=int)\n",
    "print(data)"
   ]
  },
  {
   "cell_type": "markdown",
   "metadata": {},
   "source": [
    "# Part 1"
   ]
  },
  {
   "cell_type": "code",
   "execution_count": 60,
   "metadata": {},
   "outputs": [
    {
     "data": {
      "text/plain": [
       "99"
      ]
     },
     "execution_count": 60,
     "metadata": {},
     "output_type": "execute_result"
    }
   ],
   "source": [
    "len(data)"
   ]
  },
  {
   "cell_type": "code",
   "execution_count": 61,
   "metadata": {},
   "outputs": [],
   "source": [
    "def check_if_edge(x, y, data):\n",
    "    size = len(data)-1\n",
    "    check_valid = data[x, y]\n",
    "    if x == 0 or y == 0 or x == size or y == size:\n",
    "        return True\n",
    "    else:\n",
    "        return False\n",
    "    "
   ]
  },
  {
   "cell_type": "code",
   "execution_count": 62,
   "metadata": {},
   "outputs": [
    {
     "data": {
      "text/plain": [
       "False"
      ]
     },
     "execution_count": 62,
     "metadata": {},
     "output_type": "execute_result"
    }
   ],
   "source": [
    "check_if_edge(1, 4, data)"
   ]
  },
  {
   "cell_type": "code",
   "execution_count": 35,
   "metadata": {},
   "outputs": [],
   "source": [
    "def check_if_visible(x, y, data):\n",
    "    tree = data[x, y]\n",
    "    up = max(data[:x, y])\n",
    "    down = max(data[x+1:, y])\n",
    "    left = max(data[x, :y])\n",
    "    right = max(data[x, y+1:])\n",
    "    \n",
    "    #print(tree, up, down, left, right)\n",
    "    if tree > up or tree > down or tree > right or tree > left:\n",
    "        #print(\"row\", data[x, :], \"column\", data[:,y])\n",
    "        return True\n",
    "    \n",
    "    else:\n",
    "        return False\n",
    "    "
   ]
  },
  {
   "cell_type": "code",
   "execution_count": 63,
   "metadata": {},
   "outputs": [
    {
     "name": "stdout",
     "output_type": "stream",
     "text": [
      "1387 392 1779\n"
     ]
    }
   ],
   "source": [
    "count_visible_edge = 0\n",
    "count_visible_inside = 0\n",
    "for x in range(0, len(data)):\n",
    "    for y in range(0, len(data)):\n",
    "        if check_if_edge(x, y, data):\n",
    "            #print(True)\n",
    "            count_visible_edge+=1\n",
    "        else:\n",
    "            #print(check_if_visible(x, y, data))\n",
    "            if check_if_visible(x, y, data):\n",
    "                #print(\"coord\", x, y, \"True value\", data[x,y])\n",
    "                count_visible_inside+=1\n",
    "#            else:\n",
    "#                print(\"coord\", x, y, \"False value\", data[x,y])\n",
    "\n",
    "\n",
    "print(count_visible_inside, count_visible_edge, count_visible_inside+count_visible_edge)            \n",
    "        "
   ]
  },
  {
   "cell_type": "markdown",
   "metadata": {},
   "source": [
    "# Part 2"
   ]
  },
  {
   "cell_type": "code",
   "execution_count": 64,
   "metadata": {},
   "outputs": [],
   "source": [
    "def check_distance_dir(start, direc, sign):\n",
    "    counter_dist = 0\n",
    "    for n in direc[::sign]:\n",
    "        if n < start:\n",
    "            counter_dist +=1\n",
    "        if n>= start:\n",
    "            counter_dist += 1\n",
    "            break\n",
    "    return counter_dist\n",
    "    "
   ]
  },
  {
   "cell_type": "code",
   "execution_count": 65,
   "metadata": {},
   "outputs": [],
   "source": [
    "def check_scenic_score(x, y, data):\n",
    "    tree = data[x, y]\n",
    "    up = data[:x, y]\n",
    "    down = data[x+1:, y]\n",
    "    left = data[x, :y]\n",
    "    right = data[x, y+1:]\n",
    "    \n",
    "    score_up = check_distance_dir(tree, up, -1)\n",
    "    score_down = check_distance_dir(tree, down, 1)\n",
    "    score_left = check_distance_dir(tree, left, -1)\n",
    "    score_right = check_distance_dir(tree, right, 1)\n",
    "    scenic_score = score_up * score_down * score_left * score_right\n",
    "    \n",
    "    return scenic_score\n"
   ]
  },
  {
   "cell_type": "code",
   "execution_count": 69,
   "metadata": {},
   "outputs": [
    {
     "name": "stdout",
     "output_type": "stream",
     "text": [
      "172224\n"
     ]
    }
   ],
   "source": [
    "max_scenic_score = 0\n",
    "for x in range(0, len(data)):\n",
    "    for y in range(0, len(data)):\n",
    "        score =  check_scenic_score(x, y, data)\n",
    "        if score >= max_scenic_score:\n",
    "            max_scenic_score = score\n",
    "            \n",
    "print(max_scenic_score)"
   ]
  }
 ],
 "metadata": {
  "kernelspec": {
   "display_name": "Python 3 (ipykernel)",
   "language": "python",
   "name": "python3"
  },
  "language_info": {
   "codemirror_mode": {
    "name": "ipython",
    "version": 3
   },
   "file_extension": ".py",
   "mimetype": "text/x-python",
   "name": "python",
   "nbconvert_exporter": "python",
   "pygments_lexer": "ipython3",
   "version": "3.9.12"
  }
 },
 "nbformat": 4,
 "nbformat_minor": 4
}
