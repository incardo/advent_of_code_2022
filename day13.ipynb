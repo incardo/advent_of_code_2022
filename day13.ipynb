{
 "cells": [
  {
   "cell_type": "code",
   "execution_count": 1,
   "metadata": {},
   "outputs": [],
   "source": [
    "import pandas as pd\n",
    "import numpy as np\n",
    "import ast\n",
    "pd.set_option('display.max_columns', None)\n",
    "pd.set_option('display.max_rows', None)\n",
    "pd.set_option('display.expand_frame_repr', True)"
   ]
  },
  {
   "cell_type": "code",
   "execution_count": 55,
   "metadata": {
    "tags": []
   },
   "outputs": [
    {
     "name": "stdout",
     "output_type": "stream",
     "text": [
      "[[[1, 1, 3, 1, 1], [1, 1, 5, 1, 1]], [[[1], [2, 3, 4]], [[1], 4]], [[9], [[8, 7, 6]]], [[[4, 4], 4, 4], [[4, 4], 4, 4, 4]], [[7, 7, 7, 7], [7, 7, 7]], [[], [3]], [[[[]]], [[]]], [[1, [2, [3, [4, [5, 6, 7]]]], 8, 9], [1, [2, [3, [4, [5, 6, 0]]]], 8, 9]]]\n"
     ]
    }
   ],
   "source": [
    "packets = open(\"day13_input.txt\").read().splitlines() \n",
    "\n",
    "packets_pair = []\n",
    "for i, line in enumerate(packets):\n",
    "    if i % 3==0:\n",
    "        packets_pair.append([ast.literal_eval(packets[i]), ast.literal_eval(packets[i+1])])\n",
    "\n",
    "print(packets_pair)"
   ]
  },
  {
   "cell_type": "code",
   "execution_count": 56,
   "metadata": {},
   "outputs": [
    {
     "data": {
      "text/plain": [
       "[1, 1, 5, 1, 1]"
      ]
     },
     "execution_count": 56,
     "metadata": {},
     "output_type": "execute_result"
    }
   ],
   "source": [
    "packets_pair[0][1]"
   ]
  },
  {
   "cell_type": "code",
   "execution_count": 109,
   "metadata": {},
   "outputs": [],
   "source": [
    "def compare_lists(left, right):\n",
    "    correct_order = 0\n",
    "    for i, item in enumerate(left):\n",
    "        print(\"comparing left\", left, \"and right\", right)\n",
    "        print(i, item)\n",
    "        try:\n",
    "            if type(left[i])==list and len(left[i]) == 0:\n",
    "                if i == len(left)-1:\n",
    "                    print(\"all elements in the right order empty list\")\n",
    "                    return True\n",
    "                else:\n",
    "                    print(\"left list empty\", \" -left\", left[i], \"right\", right[i])\n",
    "                    continue\n",
    "\n",
    "            if type(left[i]) == list and type(right[i])==list:\n",
    "                print( compare_lists(left[i], right[i]))\n",
    "            elif type(left[i]) == list and type(right[i]) != list:\n",
    "                print( compare_lists(left[i], [right[i]]))\n",
    "            elif type(left[i]) != list and type(right[i]) == list:\n",
    "                print( compare_lists([left[i]], right[i]))\n",
    "\n",
    "            if left[i] <= right[i]:\n",
    "                correct_order +=1\n",
    "                print(\"item\", i, \" check\", left[i], right[i], \"correct order\")\n",
    "\n",
    "                if correct_order == len(left):\n",
    "                    print(\"all elements in the right order\", correct_order, len(left))\n",
    "                    #return True\n",
    "            else:\n",
    "                print(\"element wrong order - position\", i)\n",
    "                return False\n",
    "                break\n",
    "\n",
    "        except:\n",
    "            print(\"right list runned out of items\")\n",
    "            continue\n",
    "            return False\n",
    "            \n",
    "\n",
    "\n",
    "def compare_order(pair):\n",
    "    left=pair[0]\n",
    "    right=pair[1]\n",
    "    print(\" **** left\", left, \"right\", right)\n",
    "    if type(left)==list and type(right)==list:\n",
    "        #print(\"both items are lists\")\n",
    "        return compare_lists(left, right)\n",
    "        \n",
    "    elif type(left)==int and type(right)==int:\n",
    "        #print(\"both items are integers\")\n",
    "        return compare_lists(left, right)"
   ]
  },
  {
   "cell_type": "code",
   "execution_count": 110,
   "metadata": {},
   "outputs": [
    {
     "name": "stdout",
     "output_type": "stream",
     "text": [
      " **** left [[1], [2, 3, 4]] right [[1], 4]\n",
      "comparing left [[1], [2, 3, 4]] and right [[1], 4]\n",
      "0 [1]\n",
      "comparing left [1] and right [1]\n",
      "0 1\n",
      "item 0  check 1 1 correct order\n",
      "all elements in the right order 1 1\n",
      "None\n",
      "item 0  check [1] [1] correct order\n",
      "comparing left [[1], [2, 3, 4]] and right [[1], 4]\n",
      "1 [2, 3, 4]\n",
      "comparing left [2, 3, 4] and right [4]\n",
      "0 2\n",
      "item 0  check 2 4 correct order\n",
      "comparing left [2, 3, 4] and right [4]\n",
      "1 3\n",
      "right list runned out of items\n",
      "comparing left [2, 3, 4] and right [4]\n",
      "2 4\n",
      "right list runned out of items\n",
      "None\n",
      "right list runned out of items\n"
     ]
    }
   ],
   "source": [
    "compare_order(packets_pair[1])"
   ]
  },
  {
   "cell_type": "code",
   "execution_count": 62,
   "metadata": {
    "scrolled": true,
    "tags": []
   },
   "outputs": [
    {
     "name": "stdout",
     "output_type": "stream",
     "text": [
      "1 [[1, 1, 3, 1, 1], [1, 1, 5, 1, 1]]\n",
      " **** left [1, 1, 3, 1, 1] right [1, 1, 5, 1, 1]\n",
      "comparing left [1, 1, 3, 1, 1] and right [1, 1, 5, 1, 1]\n",
      "0 1\n",
      "comparing left [1, 1, 3, 1, 1] and right [1, 1, 5, 1, 1]\n",
      "1 1\n",
      "comparing left [1, 1, 3, 1, 1] and right [1, 1, 5, 1, 1]\n",
      "2 3\n",
      "comparing left [1, 1, 3, 1, 1] and right [1, 1, 5, 1, 1]\n",
      "3 1\n",
      "comparing left [1, 1, 3, 1, 1] and right [1, 1, 5, 1, 1]\n",
      "4 1\n",
      "all elements in the right order\n",
      "2 [[[1], [2, 3, 4]], [[1], 4]]\n",
      " **** left [[1], [2, 3, 4]] right [[1], 4]\n",
      "comparing left [[1], [2, 3, 4]] and right [[1], 4]\n",
      "0 [1]\n",
      "comparing left [1] and right [1]\n",
      "0 1\n",
      "all elements in the right order\n",
      "3 [[9], [[8, 7, 6]]]\n",
      " **** left [9] right [[8, 7, 6]]\n",
      "comparing left [9] and right [[8, 7, 6]]\n",
      "0 9\n",
      "comparing left [9] and right [8, 7, 6]\n",
      "0 9\n",
      "element wrong order - position 0\n",
      "4 [[[4, 4], 4, 4], [[4, 4], 4, 4, 4]]\n",
      " **** left [[4, 4], 4, 4] right [[4, 4], 4, 4, 4]\n",
      "comparing left [[4, 4], 4, 4] and right [[4, 4], 4, 4, 4]\n",
      "0 [4, 4]\n",
      "comparing left [4, 4] and right [4, 4]\n",
      "0 4\n",
      "comparing left [4, 4] and right [4, 4]\n",
      "1 4\n",
      "all elements in the right order\n",
      "5 [[7, 7, 7, 7], [7, 7, 7]]\n",
      " **** left [7, 7, 7, 7] right [7, 7, 7]\n",
      "comparing left [7, 7, 7, 7] and right [7, 7, 7]\n",
      "0 7\n",
      "comparing left [7, 7, 7, 7] and right [7, 7, 7]\n",
      "1 7\n",
      "comparing left [7, 7, 7, 7] and right [7, 7, 7]\n",
      "2 7\n",
      "comparing left [7, 7, 7, 7] and right [7, 7, 7]\n",
      "3 7\n",
      "right list runned out of items\n",
      "6 [[], [3]]\n",
      " **** left [] right [3]\n",
      "7 [[[[]]], [[]]]\n",
      " **** left [[[]]] right [[]]\n",
      "comparing left [[[]]] and right [[]]\n",
      "0 [[]]\n",
      "comparing left [[]] and right []\n",
      "0 []\n",
      "all elements in the right order\n",
      "8 [[1, [2, [3, [4, [5, 6, 7]]]], 8, 9], [1, [2, [3, [4, [5, 6, 0]]]], 8, 9]]\n",
      " **** left [1, [2, [3, [4, [5, 6, 7]]]], 8, 9] right [1, [2, [3, [4, [5, 6, 0]]]], 8, 9]\n",
      "comparing left [1, [2, [3, [4, [5, 6, 7]]]], 8, 9] and right [1, [2, [3, [4, [5, 6, 0]]]], 8, 9]\n",
      "0 1\n",
      "comparing left [1, [2, [3, [4, [5, 6, 7]]]], 8, 9] and right [1, [2, [3, [4, [5, 6, 0]]]], 8, 9]\n",
      "1 [2, [3, [4, [5, 6, 7]]]]\n",
      "comparing left [2, [3, [4, [5, 6, 7]]]] and right [2, [3, [4, [5, 6, 0]]]]\n",
      "0 2\n",
      "comparing left [2, [3, [4, [5, 6, 7]]]] and right [2, [3, [4, [5, 6, 0]]]]\n",
      "1 [3, [4, [5, 6, 7]]]\n",
      "comparing left [3, [4, [5, 6, 7]]] and right [3, [4, [5, 6, 0]]]\n",
      "0 3\n",
      "comparing left [3, [4, [5, 6, 7]]] and right [3, [4, [5, 6, 0]]]\n",
      "1 [4, [5, 6, 7]]\n",
      "comparing left [4, [5, 6, 7]] and right [4, [5, 6, 0]]\n",
      "0 4\n",
      "comparing left [4, [5, 6, 7]] and right [4, [5, 6, 0]]\n",
      "1 [5, 6, 7]\n",
      "comparing left [5, 6, 7] and right [5, 6, 0]\n",
      "0 5\n",
      "comparing left [5, 6, 7] and right [5, 6, 0]\n",
      "1 6\n",
      "comparing left [5, 6, 7] and right [5, 6, 0]\n",
      "2 7\n",
      "element wrong order - position 2\n",
      "14\n"
     ]
    }
   ],
   "source": [
    "right_order = 0\n",
    "for i, item in enumerate(packets_pair):\n",
    "    print(i+1, item)\n",
    "    if compare_order(item) == True:\n",
    "        right_order+=(i+1)\n",
    "        \n",
    "print(right_order)\n",
    "    "
   ]
  },
  {
   "cell_type": "code",
   "execution_count": 36,
   "metadata": {},
   "outputs": [
    {
     "data": {
      "text/plain": [
       "8"
      ]
     },
     "execution_count": 36,
     "metadata": {},
     "output_type": "execute_result"
    }
   ],
   "source": [
    "packets_pair[0][0][0][2]"
   ]
  },
  {
   "cell_type": "code",
   "execution_count": 37,
   "metadata": {},
   "outputs": [
    {
     "data": {
      "text/plain": [
       "[3, [10, 9, 1], 2, [10, 6, 10], 7]"
      ]
     },
     "execution_count": 37,
     "metadata": {},
     "output_type": "execute_result"
    }
   ],
   "source": [
    "packets_pair[0][1][0][2]"
   ]
  },
  {
   "cell_type": "code",
   "execution_count": null,
   "metadata": {},
   "outputs": [],
   "source": []
  }
 ],
 "metadata": {
  "kernelspec": {
   "display_name": "Python 3 (ipykernel)",
   "language": "python",
   "name": "python3"
  },
  "language_info": {
   "codemirror_mode": {
    "name": "ipython",
    "version": 3
   },
   "file_extension": ".py",
   "mimetype": "text/x-python",
   "name": "python",
   "nbconvert_exporter": "python",
   "pygments_lexer": "ipython3",
   "version": "3.9.12"
  }
 },
 "nbformat": 4,
 "nbformat_minor": 4
}
