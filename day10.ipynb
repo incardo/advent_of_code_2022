{
 "cells": [
  {
   "cell_type": "code",
   "execution_count": 160,
   "metadata": {},
   "outputs": [],
   "source": [
    "import pandas as pd\n",
    "import numpy as np\n",
    "pd.set_option('display.max_columns', None)\n",
    "pd.set_option('display.max_rows', None)\n",
    "pd.set_option('display.expand_frame_repr', True)"
   ]
  },
  {
   "cell_type": "code",
   "execution_count": 161,
   "metadata": {},
   "outputs": [],
   "source": [
    "program = open('day10_input.txt').read().splitlines()\n",
    "program = [x.split() for x in program]"
   ]
  },
  {
   "cell_type": "code",
   "execution_count": 162,
   "metadata": {
    "scrolled": true,
    "tags": []
   },
   "outputs": [
    {
     "name": "stdout",
     "output_type": "stream",
     "text": [
      "137\n"
     ]
    }
   ],
   "source": [
    "print(len(program))"
   ]
  },
  {
   "cell_type": "markdown",
   "metadata": {},
   "source": [
    "# Part 1"
   ]
  },
  {
   "cell_type": "code",
   "execution_count": 87,
   "metadata": {
    "scrolled": true,
    "tags": []
   },
   "outputs": [
    {
     "name": "stdout",
     "output_type": "stream",
     "text": [
      "adding signal strength for cycle 20  Tot: 420 X 21 cycle 20\n",
      "adding signal strength for cycle 60  Tot: 1140 X 19 cycle 60\n",
      "adding signal strength for cycle 100  Tot: 1800 X 18 cycle 100\n",
      "adding signal strength for cycle 140  Tot: 2940 X 21 cycle 140\n",
      "adding signal strength for cycle 180  Tot: 2880 X 16 cycle 180\n",
      "adding signal strength for cycle 220  Tot: 3960 X 18 cycle 220\n",
      "Final signal 13140 133\n"
     ]
    }
   ],
   "source": [
    "X = 1\n",
    "value_for_next_cycle = 0\n",
    "line_nr = 0\n",
    "wait_cycle = 0\n",
    "signal_strengths= 0\n",
    "\n",
    "for cycle in range(1, 220+1):\n",
    "    line = program[line_nr]\n",
    "    instr = line[0]\n",
    "    value = 0 if instr == 'noop' else int(line[1])\n",
    "    \n",
    "    #print(\"Running cycle: \",cycle, \" - current line\", instr, value, \"current X\", X, \"program line\", line_nr)\n",
    "    \n",
    "    if cycle in [20, 60, 100, 140, 180, 220]:\n",
    "        print(\"adding signal strength for cycle\", cycle,\" Tot:\", cycle*X, \"X\", X, \"cycle\", cycle)\n",
    "        signal_strengths += cycle*X   \n",
    "    \n",
    "    if instr == \"noop\":\n",
    "        line_nr+=1\n",
    "    elif instr == \"addx\" and wait_cycle==0:\n",
    "        wait_cycle=1\n",
    "        next\n",
    "    elif instr == \"addx\" and wait_cycle==1:     \n",
    "        X+=value\n",
    "        line_nr +=1\n",
    "        wait_cycle = 0\n",
    "        #print(\"New X\", X)\n",
    "               \n",
    "print(\"Final signal\", signal_strengths, line_nr)"
   ]
  },
  {
   "cell_type": "markdown",
   "metadata": {},
   "source": [
    "# Part 2"
   ]
  },
  {
   "cell_type": "code",
   "execution_count": 163,
   "metadata": {},
   "outputs": [],
   "source": [
    "def move_sprite(X):\n",
    "    sprite = \".\"*(X-1)+\"###\"+(41-X-3)*\".\"\n",
    "    return sprite"
   ]
  },
  {
   "cell_type": "code",
   "execution_count": 164,
   "metadata": {},
   "outputs": [
    {
     "data": {
      "text/plain": [
       "137"
      ]
     },
     "execution_count": 164,
     "metadata": {},
     "output_type": "execute_result"
    }
   ],
   "source": [
    "len(program)"
   ]
  },
  {
   "cell_type": "code",
   "execution_count": 165,
   "metadata": {},
   "outputs": [
    {
     "name": "stdout",
     "output_type": "stream",
     "text": [
      "###..#..#..##..#..#.#..#.###..####.#..#.\n",
      "##.#.#..#.#..#.#.#..#..#.#..#.#....#.#..\n",
      "##.#.#..#.#..#.##...####.###..###..##...\n",
      "###..#..#.####.#.#..#..#.#..#.#....#.#..\n",
      "###..#..#.#..#.#.#..#..#.#..#.#....#.#..\n",
      "##.#..##..#..#.#..#.#..#.###..####.#..#.\n",
      "\n"
     ]
    }
   ],
   "source": [
    "X = 1\n",
    "value_for_next_cycle = 0\n",
    "line_nr = 0\n",
    "wait_cycle = 0\n",
    "signal_strengths= 0\n",
    "cycle = 0\n",
    "sprite = \"###.....................................\"\n",
    "CRT = \"\"\n",
    "CRT_position = 0\n",
    "\n",
    "while line_nr != len(program):\n",
    "#while cycle != 22:\n",
    "    \n",
    "    line = program[line_nr]\n",
    "    instr = line[0]\n",
    "    value = 0 if instr == 'noop' else int(line[1])\n",
    "    \n",
    "    #print(\"Running cycle: \",cycle, \" - current line\", instr, value, \"current X\", X, \"program line\", line_nr, \"CRT_position\", CRT_position)\n",
    "\n",
    "    sprite = move_sprite(X)\n",
    "    #print(\"cycle\", cycle, \"sprite\", sprite, \"X\", X, \"CRT_position\", CRT_position)\n",
    "    if sprite[CRT_position]==\"#\":\n",
    "        CRT+=\"#\"\n",
    "    else:\n",
    "        CRT+=\".\"\n",
    "   \n",
    "    if CRT_position==39:\n",
    "        CRT_position = 0\n",
    "        CRT+=\"\\n\"\n",
    "    else:\n",
    "        #print(\"cycle\", cycle, \"CRT\", CRT)\n",
    "        CRT_position+=1\n",
    "    \n",
    "    \n",
    "    if instr == \"noop\":\n",
    "        line_nr+=1\n",
    "    elif instr == \"addx\" and wait_cycle==0:\n",
    "        wait_cycle=1\n",
    "        next\n",
    "    elif instr == \"addx\" and wait_cycle==1:     \n",
    "        X+=value\n",
    "        line_nr +=1\n",
    "        wait_cycle = 0\n",
    "        #print(\"New X\", X)\n",
    "    \n",
    "    cycle+=1\n",
    "    \n",
    "print(CRT)"
   ]
  }
 ],
 "metadata": {
  "kernelspec": {
   "display_name": "Python 3 (ipykernel)",
   "language": "python",
   "name": "python3"
  },
  "language_info": {
   "codemirror_mode": {
    "name": "ipython",
    "version": 3
   },
   "file_extension": ".py",
   "mimetype": "text/x-python",
   "name": "python",
   "nbconvert_exporter": "python",
   "pygments_lexer": "ipython3",
   "version": "3.9.12"
  }
 },
 "nbformat": 4,
 "nbformat_minor": 4
}
